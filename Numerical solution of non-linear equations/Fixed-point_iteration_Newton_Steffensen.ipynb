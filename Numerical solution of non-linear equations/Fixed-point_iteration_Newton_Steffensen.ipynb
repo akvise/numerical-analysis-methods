{
 "cells": [
  {
   "cell_type": "markdown",
   "id": "f385fb74",
   "metadata": {},
   "source": [
    "## \"Numerical solution of non-linear equations\"\n"
   ]
  },
  {
   "cell_type": "markdown",
   "id": "916160d5",
   "metadata": {},
   "source": [
    "### Explore the function f(x) = 0 to its roots\n",
    "# $ln(x+1) - x^3 + 1 = 0, x > 0$ "
   ]
  },
  {
   "cell_type": "code",
   "execution_count": 7,
   "id": "efd38785",
   "metadata": {},
   "outputs": [],
   "source": [
    "import numpy as np\n",
    "import matplotlib.pyplot as plt\n",
    "import pandas as pd"
   ]
  },
  {
   "cell_type": "code",
   "execution_count": 8,
   "id": "b7e8b72a",
   "metadata": {},
   "outputs": [],
   "source": [
    "def f(x):\n",
    "    return np.log(x + 1.) - x ** 3 + 1"
   ]
  },
  {
   "cell_type": "code",
   "execution_count": 9,
   "id": "ec12b380",
   "metadata": {},
   "outputs": [],
   "source": [
    "x = np.arange(-.9, 2, 0.1)\n",
    "y = f(x)"
   ]
  },
  {
   "cell_type": "code",
   "execution_count": 10,
   "id": "2f061648",
   "metadata": {},
   "outputs": [
    {
     "data": {
      "image/png": "[encoded data removed]",
      "text/plain": [
       "<Figure size 576x360 with 1 Axes>"
      ]
     },
     "metadata": {
      "needs_background": "light"
     },
     "output_type": "display_data"
    }
   ],
   "source": [
    "plt.figure(figsize=(8, 5))\n",
    "\n",
    "plt.plot(x, y)\n",
    "plt.plot(x, 0*x, 0*x, x, color = 'black')\n",
    "\n",
    "\n",
    "ax = plt.gca()\n",
    "\n",
    "plt.xlim([-1,2])\n",
    "plt.ylim([-1,1.5])\n",
    "\n",
    "plt.show()\n",
    "None"
   ]
  },
  {
   "cell_type": "markdown",
   "id": "946e3719",
   "metadata": {},
   "source": [
    "# Dichotomy\n",
    "\n",
    " We can graphically separate the root on the interval (1; 2).Then we apply the method of half division and display the result in the form of a pandas table"
   ]
  },
  {
   "cell_type": "code",
   "execution_count": 11,
   "id": "8e1087e5",
   "metadata": {},
   "outputs": [],
   "source": [
    "a = 1\n",
    "b = 2\n",
    "eps = 0.1\n",
    "\n",
    "tab = [[a, b, f(a), f(b) , (a + b)/2 , b - a]]\n",
    "k = 0\n",
    "while b - a > eps:\n",
    "    k = (a+b)/2\n",
    "    if f(k)*f(a) >= 0:\n",
    "        a = k\n",
    "    else:\n",
    "        b = k\n",
    "    tab.append([a, b, f(a), f(b) , (a + b)/2 , b - a])"
   ]
  },
  {
   "cell_type": "code",
   "execution_count": 12,
   "id": "8580b0ba",
   "metadata": {},
   "outputs": [
    {
     "data": {
      "text/html": [
       "<div>\n",
       "<style scoped>\n",
       "    .dataframe tbody tr th:only-of-type {\n",
       "        vertical-align: middle;\n",
       "    }\n",
       "\n",
       "    .dataframe tbody tr th {\n",
       "        vertical-align: top;\n",
       "    }\n",
       "\n",
       "    .dataframe thead th {\n",
       "        text-align: right;\n",
       "    }\n",
       "</style>\n",
       "<table border=\"1\" class=\"dataframe\">\n",
       "  <thead>\n",
       "    <tr style=\"text-align: right;\">\n",
       "      <th></th>\n",
       "      <th>a</th>\n",
       "      <th>b</th>\n",
       "      <th>f(a)</th>\n",
       "      <th>f(b)</th>\n",
       "      <th>(a+b)/2</th>\n",
       "      <th>b-a</th>\n",
       "    </tr>\n",
       "  </thead>\n",
       "  <tbody>\n",
       "    <tr>\n",
       "      <th>0</th>\n",
       "      <td>1.0000</td>\n",
       "      <td>2.00</td>\n",
       "      <td>0.693147</td>\n",
       "      <td>-5.901388</td>\n",
       "      <td>1.50000</td>\n",
       "      <td>1.0000</td>\n",
       "    </tr>\n",
       "    <tr>\n",
       "      <th>1</th>\n",
       "      <td>1.0000</td>\n",
       "      <td>1.50</td>\n",
       "      <td>0.693147</td>\n",
       "      <td>-1.458709</td>\n",
       "      <td>1.25000</td>\n",
       "      <td>0.5000</td>\n",
       "    </tr>\n",
       "    <tr>\n",
       "      <th>2</th>\n",
       "      <td>1.0000</td>\n",
       "      <td>1.25</td>\n",
       "      <td>0.693147</td>\n",
       "      <td>-0.142195</td>\n",
       "      <td>1.12500</td>\n",
       "      <td>0.2500</td>\n",
       "    </tr>\n",
       "    <tr>\n",
       "      <th>3</th>\n",
       "      <td>1.1250</td>\n",
       "      <td>1.25</td>\n",
       "      <td>0.329944</td>\n",
       "      <td>-0.142195</td>\n",
       "      <td>1.18750</td>\n",
       "      <td>0.1250</td>\n",
       "    </tr>\n",
       "    <tr>\n",
       "      <th>4</th>\n",
       "      <td>1.1875</td>\n",
       "      <td>1.25</td>\n",
       "      <td>0.108199</td>\n",
       "      <td>-0.142195</td>\n",
       "      <td>1.21875</td>\n",
       "      <td>0.0625</td>\n",
       "    </tr>\n",
       "  </tbody>\n",
       "</table>\n",
       "</div>"
      ],
      "text/plain": [
       "        a     b      f(a)      f(b)  (a+b)/2     b-a\n",
       "0  1.0000  2.00  0.693147 -5.901388  1.50000  1.0000\n",
       "1  1.0000  1.50  0.693147 -1.458709  1.25000  0.5000\n",
       "2  1.0000  1.25  0.693147 -0.142195  1.12500  0.2500\n",
       "3  1.1250  1.25  0.329944 -0.142195  1.18750  0.1250\n",
       "4  1.1875  1.25  0.108199 -0.142195  1.21875  0.0625"
      ]
     },
     "execution_count": 12,
     "metadata": {},
     "output_type": "execute_result"
    }
   ],
   "source": [
    "pd.DataFrame(tab, columns = [\"a\", \"b\", \"f(a)\", \"f(b)\", \"(a+b)/2\", \"b-a\"])"
   ]
  },
  {
   "cell_type": "markdown",
   "id": "80c54e0c",
   "metadata": {},
   "source": [
    "# Fixed-point iteration"
   ]
  },
  {
   "cell_type": "markdown",
   "id": "440effbe",
   "metadata": {},
   "source": [
    " Let's take our function $ln(x+1) - x^3 + 1 = 0$  and transform it into a form convenient for iteration. That is, let's say: $x = \\sqrt[3]{ln(x+1) + 1}$. Got the expression $ x = \\varphi(x)$. \n",
    " \n",
    " As an initial approximation, we take $x_0 = 1.21875$. We can estimate the distance from the rest x from the initial approximation: $|x - x_0| \\leq  \\delta = 0.03125$ \n",
    " \n",
    " Note that the function $\\varphi$ is continuous. In addition, the derivative $ \\frac{d\\varphi}{dx} = \\frac{1}{((3 + 3 x) (1 + ln(1 + x))^{2/3})}$ less than one on the segment [1.1875, 1.25]. The derivative is a monotonically decreasing function, so we can estimate from above by taking the argument equal to the left boundary at the last step(in our case x = 1.1875. then $ \\frac{d\\varphi}{dx}(1.1875) = 0.103642$. I.e $ \\frac{d\\varphi}{dx} = \\frac{1}{((3 + 3 x) (1 + ln(1 + x))^{2/3})} \\leq q = 0.11 < 1$. \n",
    " \n",
    " Moreover, $|x_0 - \\varphi(x_0) | \\leq m = 0.025$.\n",
    " \n",
    " This means that the inequality: $\\frac{m}{1-q} \\leq \\delta$. Then a sufficient condition for the convergence of the fixed-point method is satisfied.\n",
    " \n",
    " Bearing in mind that q < 0.5, as a stop of the iterative process, we can use $|x_{k+1} - x_{k}| < \\varepsilon$"
   ]
  },
  {
   "cell_type": "code",
   "execution_count": 13,
   "id": "e0d94f16",
   "metadata": {},
   "outputs": [],
   "source": [
    "def phi(x):\n",
    "    return (np.log(x+1) + 1)**(1/3)"
   ]
  },
  {
   "cell_type": "code",
   "execution_count": 14,
   "id": "97dc2f10",
   "metadata": {},
   "outputs": [
    {
     "data": {
      "text/html": [
       "<div>\n",
       "<style scoped>\n",
       "    .dataframe tbody tr th:only-of-type {\n",
       "        vertical-align: middle;\n",
       "    }\n",
       "\n",
       "    .dataframe tbody tr th {\n",
       "        vertical-align: top;\n",
       "    }\n",
       "\n",
       "    .dataframe thead tr th {\n",
       "        text-align: left;\n",
       "    }\n",
       "</style>\n",
       "<table border=\"1\" class=\"dataframe\">\n",
       "  <thead>\n",
       "    <tr>\n",
       "      <th>Name</th>\n",
       "      <th colspan=\"2\" halign=\"left\">Simple iteration method</th>\n",
       "    </tr>\n",
       "    <tr>\n",
       "      <th></th>\n",
       "      <th>x_k</th>\n",
       "      <th>|x_k - x_k-1|</th>\n",
       "    </tr>\n",
       "  </thead>\n",
       "  <tbody>\n",
       "    <tr>\n",
       "      <th>0</th>\n",
       "      <td>1.218750</td>\n",
       "      <td>2.998412e-03</td>\n",
       "    </tr>\n",
       "    <tr>\n",
       "      <th>1</th>\n",
       "      <td>1.215752</td>\n",
       "      <td>3.050525e-04</td>\n",
       "    </tr>\n",
       "    <tr>\n",
       "      <th>2</th>\n",
       "      <td>1.215447</td>\n",
       "      <td>3.106716e-05</td>\n",
       "    </tr>\n",
       "    <tr>\n",
       "      <th>3</th>\n",
       "      <td>1.215415</td>\n",
       "      <td>3.164271e-06</td>\n",
       "    </tr>\n",
       "    <tr>\n",
       "      <th>4</th>\n",
       "      <td>1.215412</td>\n",
       "      <td>3.222926e-07</td>\n",
       "    </tr>\n",
       "    <tr>\n",
       "      <th>5</th>\n",
       "      <td>1.215412</td>\n",
       "      <td>3.282673e-08</td>\n",
       "    </tr>\n",
       "  </tbody>\n",
       "</table>\n",
       "</div>"
      ],
      "text/plain": [
       "Name Simple iteration method              \n",
       "                         x_k |x_k - x_k-1|\n",
       "0                   1.218750  2.998412e-03\n",
       "1                   1.215752  3.050525e-04\n",
       "2                   1.215447  3.106716e-05\n",
       "3                   1.215415  3.164271e-06\n",
       "4                   1.215412  3.222926e-07\n",
       "5                   1.215412  3.282673e-08"
      ]
     },
     "execution_count": 14,
     "metadata": {},
     "output_type": "execute_result"
    }
   ],
   "source": [
    "eps = 10**-7\n",
    "k1 = 1.21875\n",
    "k2 = phi(k1)\n",
    "\n",
    "tab = [[k1, np.abs(k2-k1)]]\n",
    "while np.abs(k2 - k1) > eps:\n",
    "    k1 = k2\n",
    "    k2 = phi(k1)\n",
    "    tab.append([k1, np.abs(k2-k1)])\n",
    "\n",
    "SIM = pd.DataFrame(tab, columns = [(\"Simple iteration method\",\"x_k\"), (\"Simple iteration method\", \"|x_k - x_k-1|\")])\n",
    "SIM.columns = pd.MultiIndex.from_tuples(SIM.columns, names=['Name',''])\n",
    "SIM"
   ]
  },
  {
   "cell_type": "code",
   "execution_count": 15,
   "id": "14aa0499",
   "metadata": {},
   "outputs": [
    {
     "name": "stdout",
     "output_type": "stream",
     "text": [
      "1.215411981987711 1.2154119491609852\n"
     ]
    }
   ],
   "source": [
    "print(k1, k2)"
   ]
  },
  {
   "cell_type": "markdown",
   "id": "1ccfea4c",
   "metadata": {},
   "source": [
    "### Thus, we got a root with seven significant digits $ x \\approx 1.2154119$"
   ]
  },
  {
   "cell_type": "markdown",
   "id": "d58e7224",
   "metadata": {},
   "source": [
    "# Newton's method"
   ]
  },
  {
   "cell_type": "markdown",
   "id": "70a52c18",
   "metadata": {},
   "source": [
    "Let's check the convergence of Newton's method:\n",
    "$x_0 = 1.21875$, then $h_0 = -\\frac{f(x_0)}{f'(x_0)} \\approx -0.00333$. \n",
    "\n",
    "Let's take a segment $s_0[x_0 +2h_0, x_0]$, I.e $s_0 = [1.21209, 1.21875]$\n",
    "f''(x) = $-\\frac{(1 + 6 x + 12 x^2 + 6 x^3)}{(1 + x)^2}$\n",
    "It is not difficult to check that $max_sf''(x) \\approx -7.4769 = M $\n",
    "\n",
    "then the inequality: $2|h_0|M \\leq |f'(x_0)|$\n",
    "\n",
    "This implies the uniqueness of the solution, the sequence can be constructed and it converges. "
   ]
  },
  {
   "cell_type": "code",
   "execution_count": 16,
   "id": "f48c5fc2",
   "metadata": {},
   "outputs": [],
   "source": [
    "def df(x):\n",
    "    return -3*x**2 + 1/(x+1)"
   ]
  },
  {
   "cell_type": "code",
   "execution_count": 17,
   "id": "aa531267",
   "metadata": {},
   "outputs": [],
   "source": [
    "def NewtonF(x):\n",
    "    return x - f(x)/df(x)"
   ]
  },
  {
   "cell_type": "code",
   "execution_count": 18,
   "id": "ff514114",
   "metadata": {},
   "outputs": [
    {
     "data": {
      "text/html": [
       "<div>\n",
       "<style scoped>\n",
       "    .dataframe tbody tr th:only-of-type {\n",
       "        vertical-align: middle;\n",
       "    }\n",
       "\n",
       "    .dataframe tbody tr th {\n",
       "        vertical-align: top;\n",
       "    }\n",
       "\n",
       "    .dataframe thead tr th {\n",
       "        text-align: left;\n",
       "    }\n",
       "</style>\n",
       "<table border=\"1\" class=\"dataframe\">\n",
       "  <thead>\n",
       "    <tr>\n",
       "      <th>Name</th>\n",
       "      <th colspan=\"2\" halign=\"left\">Newton's method</th>\n",
       "    </tr>\n",
       "    <tr>\n",
       "      <th></th>\n",
       "      <th>x_k</th>\n",
       "      <th>|x_k - x_k-1|</th>\n",
       "    </tr>\n",
       "  </thead>\n",
       "  <tbody>\n",
       "    <tr>\n",
       "      <th>0</th>\n",
       "      <td>1.218750</td>\n",
       "      <td>3.327610e-03</td>\n",
       "    </tr>\n",
       "    <tr>\n",
       "      <th>1</th>\n",
       "      <td>1.215422</td>\n",
       "      <td>1.044488e-05</td>\n",
       "    </tr>\n",
       "    <tr>\n",
       "      <th>2</th>\n",
       "      <td>1.215412</td>\n",
       "      <td>1.027320e-10</td>\n",
       "    </tr>\n",
       "  </tbody>\n",
       "</table>\n",
       "</div>"
      ],
      "text/plain": [
       "Name Newton's method              \n",
       "                 x_k |x_k - x_k-1|\n",
       "0           1.218750  3.327610e-03\n",
       "1           1.215422  1.044488e-05\n",
       "2           1.215412  1.027320e-10"
      ]
     },
     "execution_count": 18,
     "metadata": {},
     "output_type": "execute_result"
    }
   ],
   "source": [
    "eps = 10**-7\n",
    "k1 = 1.21875\n",
    "k2 = NewtonF(k1)\n",
    "tab = [[k1, np.abs(k2-k1)]]\n",
    "\n",
    "while np.abs(k1-k2) > eps:\n",
    "    k1 = k2\n",
    "    k2 = NewtonF(k1)\n",
    "    \n",
    "    tab.append([k1, np.abs(k2-k1)])\n",
    "    \n",
    "NewtonM = pd.DataFrame(tab, columns = [(\"Newton's method\",\"x_k\"), (\"Newton's method\", \"|x_k - x_k-1|\")])\n",
    "NewtonM.columns = pd.MultiIndex.from_tuples(NewtonM.columns, names=['Name',''])\n",
    "\n",
    "NewtonM"
   ]
  },
  {
   "cell_type": "code",
   "execution_count": 19,
   "id": "cd653339",
   "metadata": {},
   "outputs": [
    {
     "name": "stdout",
     "output_type": "stream",
     "text": [
      "1.2154119455410195 1.2154119454382875\n"
     ]
    }
   ],
   "source": [
    "print(k1, k2)"
   ]
  },
  {
   "cell_type": "markdown",
   "id": "d742c1a8",
   "metadata": {},
   "source": [
    "### Thus, by Newton's method, we obtained the root 1.2154119454382875 with an error $10^{-7}$"
   ]
  },
  {
   "cell_type": "markdown",
   "id": "cad5e02a",
   "metadata": {},
   "source": [
    "# Steffensen's method"
   ]
  },
  {
   "cell_type": "markdown",
   "id": "4834dc27",
   "metadata": {},
   "source": [
    "The Steffensen method itself is equivalent to the fixed-point method, except that it involves the Aitkin transform\n",
    "## $x_{k+1} = \\frac{x_k\\varphi(\\varphi(x_k)) - \\varphi(x_k)^2}{\\varphi(\\varphi(x_k)) - \\varphi(x_k) + x_k}$"
   ]
  },
  {
   "cell_type": "code",
   "execution_count": 20,
   "id": "23b3b6d5",
   "metadata": {},
   "outputs": [],
   "source": [
    "def SteffensenF(x):\n",
    "    return (x*phi(phi(x)) - phi(x)**2)/(phi(phi(x)) - 2*phi(x) + x)"
   ]
  },
  {
   "cell_type": "code",
   "execution_count": 21,
   "id": "b64bdecb",
   "metadata": {},
   "outputs": [
    {
     "data": {
      "text/html": [
       "<div>\n",
       "<style scoped>\n",
       "    .dataframe tbody tr th:only-of-type {\n",
       "        vertical-align: middle;\n",
       "    }\n",
       "\n",
       "    .dataframe tbody tr th {\n",
       "        vertical-align: top;\n",
       "    }\n",
       "\n",
       "    .dataframe thead tr th {\n",
       "        text-align: left;\n",
       "    }\n",
       "</style>\n",
       "<table border=\"1\" class=\"dataframe\">\n",
       "  <thead>\n",
       "    <tr>\n",
       "      <th>Name</th>\n",
       "      <th colspan=\"2\" halign=\"left\">Steffensen method</th>\n",
       "    </tr>\n",
       "    <tr>\n",
       "      <th></th>\n",
       "      <th>x_k</th>\n",
       "      <th>|x_k - x_k-1|</th>\n",
       "    </tr>\n",
       "  </thead>\n",
       "  <tbody>\n",
       "    <tr>\n",
       "      <th>0</th>\n",
       "      <td>1.218750</td>\n",
       "      <td>3.338015e-03</td>\n",
       "    </tr>\n",
       "    <tr>\n",
       "      <th>1</th>\n",
       "      <td>1.215412</td>\n",
       "      <td>3.782709e-08</td>\n",
       "    </tr>\n",
       "  </tbody>\n",
       "</table>\n",
       "</div>"
      ],
      "text/plain": [
       "Name Steffensen method              \n",
       "                   x_k |x_k - x_k-1|\n",
       "0             1.218750  3.338015e-03\n",
       "1             1.215412  3.782709e-08"
      ]
     },
     "execution_count": 21,
     "metadata": {},
     "output_type": "execute_result"
    }
   ],
   "source": [
    "eps = 10**-7\n",
    "\n",
    "k1 = 1.21875\n",
    "k2 = SteffensenF(k1)\n",
    "tab = [[k1, np.abs(k2-k1)]]\n",
    "\n",
    "while np.abs(k1-k2) > eps:\n",
    "    k1 = k2\n",
    "    k2 = SteffensenF(k1)\n",
    "    \n",
    "    tab.append([k1, np.abs(k2-k1)])\n",
    "\n",
    "SteffensenM = pd.DataFrame(tab, columns = [(\"Steffensen method\",\"x_k\"), (\"Steffensen method\", \"|x_k - x_k-1|\")])\n",
    "\n",
    "SteffensenM.columns = pd.MultiIndex.from_tuples(SteffensenM.columns, names=['Name',''])\n",
    "SteffensenM"
   ]
  },
  {
   "cell_type": "code",
   "execution_count": 22,
   "id": "80cb7f7f",
   "metadata": {},
   "outputs": [
    {
     "name": "stdout",
     "output_type": "stream",
     "text": [
      "1.2154119851698788 1.2154119473427907\n"
     ]
    }
   ],
   "source": [
    "print(k1, k2)"
   ]
  },
  {
   "cell_type": "code",
   "execution_count": 23,
   "id": "1310a622",
   "metadata": {},
   "outputs": [
    {
     "data": {
      "text/html": [
       "<div>\n",
       "<style scoped>\n",
       "    .dataframe tbody tr th:only-of-type {\n",
       "        vertical-align: middle;\n",
       "    }\n",
       "\n",
       "    .dataframe tbody tr th {\n",
       "        vertical-align: top;\n",
       "    }\n",
       "\n",
       "    .dataframe thead tr th {\n",
       "        text-align: left;\n",
       "    }\n",
       "</style>\n",
       "<table border=\"1\" class=\"dataframe\">\n",
       "  <thead>\n",
       "    <tr>\n",
       "      <th>Name</th>\n",
       "      <th colspan=\"2\" halign=\"left\">Simple iteration method</th>\n",
       "      <th colspan=\"2\" halign=\"left\">Newton's method</th>\n",
       "      <th colspan=\"2\" halign=\"left\">Steffensen method</th>\n",
       "    </tr>\n",
       "    <tr>\n",
       "      <th></th>\n",
       "      <th>x_k</th>\n",
       "      <th>|x_k - x_k-1|</th>\n",
       "      <th>x_k</th>\n",
       "      <th>|x_k - x_k-1|</th>\n",
       "      <th>x_k</th>\n",
       "      <th>|x_k - x_k-1|</th>\n",
       "    </tr>\n",
       "  </thead>\n",
       "  <tbody>\n",
       "    <tr>\n",
       "      <th>0</th>\n",
       "      <td>1.218750</td>\n",
       "      <td>2.998412e-03</td>\n",
       "      <td>1.21875</td>\n",
       "      <td>0.003328</td>\n",
       "      <td>1.21875</td>\n",
       "      <td>0.003338</td>\n",
       "    </tr>\n",
       "    <tr>\n",
       "      <th>1</th>\n",
       "      <td>1.215752</td>\n",
       "      <td>3.050525e-04</td>\n",
       "      <td>1.215422</td>\n",
       "      <td>0.00001</td>\n",
       "      <td>1.215412</td>\n",
       "      <td>0.0</td>\n",
       "    </tr>\n",
       "    <tr>\n",
       "      <th>2</th>\n",
       "      <td>1.215447</td>\n",
       "      <td>3.106716e-05</td>\n",
       "      <td>1.215412</td>\n",
       "      <td>0.0</td>\n",
       "      <td>-</td>\n",
       "      <td>-</td>\n",
       "    </tr>\n",
       "    <tr>\n",
       "      <th>3</th>\n",
       "      <td>1.215415</td>\n",
       "      <td>3.164271e-06</td>\n",
       "      <td>-</td>\n",
       "      <td>-</td>\n",
       "      <td>-</td>\n",
       "      <td>-</td>\n",
       "    </tr>\n",
       "    <tr>\n",
       "      <th>4</th>\n",
       "      <td>1.215412</td>\n",
       "      <td>3.222926e-07</td>\n",
       "      <td>-</td>\n",
       "      <td>-</td>\n",
       "      <td>-</td>\n",
       "      <td>-</td>\n",
       "    </tr>\n",
       "    <tr>\n",
       "      <th>5</th>\n",
       "      <td>1.215412</td>\n",
       "      <td>3.282673e-08</td>\n",
       "      <td>-</td>\n",
       "      <td>-</td>\n",
       "      <td>-</td>\n",
       "      <td>-</td>\n",
       "    </tr>\n",
       "  </tbody>\n",
       "</table>\n",
       "</div>"
      ],
      "text/plain": [
       "Name Simple iteration method               Newton's method                \\\n",
       "                         x_k |x_k - x_k-1|             x_k |x_k - x_k-1|   \n",
       "0                   1.218750  2.998412e-03         1.21875      0.003328   \n",
       "1                   1.215752  3.050525e-04        1.215422       0.00001   \n",
       "2                   1.215447  3.106716e-05        1.215412           0.0   \n",
       "3                   1.215415  3.164271e-06               -             -   \n",
       "4                   1.215412  3.222926e-07               -             -   \n",
       "5                   1.215412  3.282673e-08               -             -   \n",
       "\n",
       "Name Steffensen method                \n",
       "                   x_k |x_k - x_k-1|  \n",
       "0              1.21875      0.003338  \n",
       "1             1.215412           0.0  \n",
       "2                    -             -  \n",
       "3                    -             -  \n",
       "4                    -             -  \n",
       "5                    -             -  "
      ]
     },
     "execution_count": 23,
     "metadata": {},
     "output_type": "execute_result"
    }
   ],
   "source": [
    "pd.concat([SIM, NewtonM, SteffensenM], axis=1).fillna('-')\n"
   ]
  },
  {
   "cell_type": "code",
   "execution_count": null,
   "id": "8c3e987f",
   "metadata": {},
   "outputs": [],
   "source": []
  }
 ],
 "metadata": {
  "kernelspec": {
   "display_name": "Python 3 (ipykernel)",
   "language": "python",
   "name": "python3"
  },
  "language_info": {
   "codemirror_mode": {
    "name": "ipython",
    "version": 3
   },
   "file_extension": ".py",
   "mimetype": "text/x-python",
   "name": "python",
   "nbconvert_exporter": "python",
   "pygments_lexer": "ipython3",
   "version": "3.9.7"
  }
 },
 "nbformat": 4,
 "nbformat_minor": 5
}
